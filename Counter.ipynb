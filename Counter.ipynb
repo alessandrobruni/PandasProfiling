{
 "cells": [
  {
   "cell_type": "markdown",
   "source": [
    "Hi, just __few lines__ for sharing a interesting think i found yesterday in _HackerRank_\n",
    "\n",
    "Sometimes we want to see __how many quantity for items__ we have.\n",
    "\n",
    "Say for example  :\n",
    "\n",
    "[Task](https://www.hackerrank.com/challenges/collections-counter/problem?isFullScreen=true)\n",
    "\n",
    "Bill is a shoe shop owner. His shop has  X number of shoes, say 20 shoes.\n",
    "He has a list containing the size of each shoe he has in his shop.\n",
    "Say _12 12 10 11 8 9 13 8 8 10 13 5 10 5 8 10 10 9 9 13_ are the sizes."
   ],
   "metadata": {
    "collapsed": false,
    "pycharm": {
     "name": "#%% md\n"
    }
   }
  },
  {
   "cell_type": "code",
   "execution_count": 20,
   "outputs": [
    {
     "name": "stdout",
     "output_type": "stream",
     "text": [
      "Number of shoes in bill's store are 20. \n"
     ]
    }
   ],
   "source": [
    "bill_shoes_size = list(\"12 12 10 11 8 9 13 8 8 10 13 5 10 5 8 10 10 9 9 13\".split())\n",
    "print(\"Number of shoes in bill's store are {}. \".format(len(bill_shoes_size)))"
   ],
   "metadata": {
    "collapsed": false,
    "pycharm": {
     "name": "#%%\n"
    }
   }
  },
  {
   "cell_type": "markdown",
   "source": [
    "If is necessary to know __on the fly__ how many shoes per size we have,\n",
    "is it possible to ask phyton for it __without looping__ but asking the\n",
    "__collections__ framework to solve this for us..."
   ],
   "metadata": {
    "collapsed": false,
    "pycharm": {
     "name": "#%% md\n"
    }
   }
  },
  {
   "cell_type": "code",
   "execution_count": 22,
   "outputs": [
    {
     "name": "stdout",
     "output_type": "stream",
     "text": [
      "Counter({'10': 5, '8': 4, '9': 3, '13': 3, '12': 2, '5': 2, '11': 1})\n"
     ]
    }
   ],
   "source": [
    "from  collections import Counter\n",
    "shoes = Counter(bill_shoes_size)\n",
    "print(shoes)\n"
   ],
   "metadata": {
    "collapsed": false,
    "pycharm": {
     "name": "#%%\n"
    }
   }
  },
  {
   "cell_type": "markdown",
   "source": [
    "E voilà! There are 5 shoes of size 10 , 4 of size 8 etc.\n",
    "\n",
    "The result is __Counter__ object that is substantially a __dictionary__ and has almost the same interface as dict.\n",
    "So it is possible to perform nearly the same actions with counters as  with standard dictionaries.\n",
    "For example, you can access their values using dictionary-like key access ([key]). You can also iterate over the keys,\n",
    " values, items bla bla bla ... using the usual techniques and methods.\n",
    "\n",
    "Easy... isn't?"
   ],
   "metadata": {
    "collapsed": false,
    "pycharm": {
     "name": "#%% md\n"
    }
   }
  },
  {
   "cell_type": "code",
   "execution_count": null,
   "outputs": [],
   "source": [],
   "metadata": {
    "collapsed": false,
    "pycharm": {
     "name": "#%%\n"
    }
   }
  }
 ],
 "metadata": {
  "kernelspec": {
   "display_name": "Python 3",
   "language": "python",
   "name": "python3"
  },
  "language_info": {
   "codemirror_mode": {
    "name": "ipython",
    "version": 2
   },
   "file_extension": ".py",
   "mimetype": "text/x-python",
   "name": "python",
   "nbconvert_exporter": "python",
   "pygments_lexer": "ipython2",
   "version": "2.7.6"
  }
 },
 "nbformat": 4,
 "nbformat_minor": 0
}