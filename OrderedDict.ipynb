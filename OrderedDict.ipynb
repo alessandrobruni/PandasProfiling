{
 "cells": [
  {
   "cell_type": "markdown",
   "source": [
    "An OrderedDict is a dictionary that remembers the order of the keys that were inserted first.\n",
    "If a new entry overwrites an existing entry, the original insertion position is left unchanged.\n",
    "\n",
    "> from collections import OrderedDict\n",
    ">\n",
    "> ordinary_dictionary = {}\n",
    "> ordinary_dictionary['a'] = 1\n",
    "> ordinary_dictionary['b'] = 2\n",
    "> ordinary_dictionary['c'] = 3\n",
    "> ordinary_dictionary['d'] = 4\n",
    "> ordinary_dictionary['e'] = 5\n",
    ">\n",
    "> print ordinary_dictionary\n",
    "a': 1, 'c': 3, 'b': 2, 'e': 5, 'd': 4}\n",
    ">\n",
    "> ordered_dictionary = OrderedDict()\n",
    "> ordered_dictionary['a'] = 1\n",
    "> ordered_dictionary['b'] = 2\n",
    "> ordered_dictionary['c'] = 3\n",
    "> ordered_dictionary['d'] = 4\n",
    "> ordered_dictionary['e'] = 5\n",
    ">\n",
    "> print ordered_dictionary\n",
    "OrderedDict([('a', 1), ('b', 2), ('c', 3), ('d', 4), ('e', 5)])"
   ],
   "metadata": {
    "collapsed": false,
    "pycharm": {
     "name": "#%% md\n"
    }
   }
  },
  {
   "cell_type": "markdown",
   "source": [
    "Task\n",
    "\n",
    "You are the manager of a supermarket.\n",
    "You have a list of  items together with their prices that consumers bought on a particular day.\n",
    "Your task is to print each item_name and net_price in order of its first occurrence.\n",
    "\n",
    "item_name = Name of the item.\n",
    "net_price = Quantity of the item sold multiplied by the price of each item.\n",
    "\n",
    "9\n",
    "BANANA FRIES 12\n",
    "POTATO CHIPS 30\n",
    "APPLE JUICE 10\n",
    "CANDY 5\n",
    "APPLE JUICE 10\n",
    "CANDY 5\n",
    "CANDY 5\n",
    "CANDY 5\n",
    "POTATO CHIPS 30"
   ],
   "metadata": {
    "collapsed": false,
    "pycharm": {
     "name": "#%% md\n"
    }
   }
  },
  {
   "cell_type": "code",
   "execution_count": 14,
   "outputs": [
    {
     "name": "stdout",
     "output_type": "stream",
     "text": [
      "BANANA FRIES   12\n",
      "POTATO CHIPS   60\n",
      "APPLE JUICE   20\n",
      "CANDY   20\n"
     ]
    }
   ],
   "source": [
    "from collections  import OrderedDict\n",
    "from collections  import namedtuple\n",
    "\n",
    "num_item = int(input())\n",
    "\n",
    "supermarket = OrderedDict()\n",
    "Item = namedtuple('Item', 'price quantity')\n",
    "\n",
    "for _ in range(num_item):\n",
    "    in_values = list(input().split())\n",
    "    price = in_values[-1]\n",
    "    item_name = \" \".join(in_values[:-1])\n",
    "\n",
    "    if supermarket.get(item_name) == None:\n",
    "        supermarket[item_name] = Item(price , 1)\n",
    "    else:\n",
    "        (price, quantity) = supermarket.get(item_name)\n",
    "        supermarket[item_name] = Item(price,quantity+1)\n",
    "\n",
    "for item_sold, item in supermarket.items():\n",
    "    print(item_sold.strip(),\" \", int(item.price) * int(item.quantity))\n",
    "\n",
    "\n"
   ],
   "metadata": {
    "collapsed": false,
    "pycharm": {
     "name": "#%%\n"
    }
   }
  },
  {
   "cell_type": "code",
   "execution_count": null,
   "outputs": [],
   "source": [
    "#Altra soluzione\n",
    "\n",
    "from collections import OrderedDict\n",
    "D = OrderedDict()\n",
    "for _ in range(int(input())):\n",
    "    item, space, price = input().rpartition(' ')\n",
    "    D[item] = D.get(item, 0) + int(price)\n",
    "print(*[\" \".join([item, str(price)]) for item, price in D.items()], sep=\"\\n\")"
   ],
   "metadata": {
    "collapsed": false,
    "pycharm": {
     "name": "#%%\n"
    }
   }
  }
 ],
 "metadata": {
  "kernelspec": {
   "display_name": "Python 3",
   "language": "python",
   "name": "python3"
  },
  "language_info": {
   "codemirror_mode": {
    "name": "ipython",
    "version": 2
   },
   "file_extension": ".py",
   "mimetype": "text/x-python",
   "name": "python",
   "nbconvert_exporter": "python",
   "pygments_lexer": "ipython2",
   "version": "2.7.6"
  }
 },
 "nbformat": 4,
 "nbformat_minor": 0
}