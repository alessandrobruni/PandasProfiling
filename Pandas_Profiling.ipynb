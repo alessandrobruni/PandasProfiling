{
 "cells": [
  {
   "cell_type": "markdown",
   "id": "915191b6-2618-4a79-88c7-59f0765b0f7f",
   "metadata": {},
   "source": [
    "![profiling](https://ydataai.github.io/pandas-profiling/docs/assets/logo_header.png)\n",
    "\n",
    "## Creating Report that describe entire dataframe to see the fork of **DATA SCIENCE JOB SALARIES**, in just one line of code \n",
    "\n",
    "Understanding the **key figures of an entire dataframe** (or database) coding manually can be very long and can take writing a lot of lines. Also if we don't have enough time and have to do it quickly - in the real job, this is business as usual - is always possible to miss something. Before going into the details of the analysis of a data frame I was wondering if there is a package that can give me some sort of preview without head acke.\n",
    "\n",
    "In Pandas I found that there is a **pandas-profiling** that can be handy for me in the future. \n",
    "\n",
    "<img src=\"https://27a7x92iyp7i4yd8b4bgzvnb-wpengine.netdna-ssl.com/wp-content/uploads/2020/07/giphy-2.gif\" width=\"70\" height=\"70\">\n",
    "\n",
    "\n",
    "### Examples: \n",
    "Example reports showcase the potentialities of the package across a wide range of dataset and data types can be found [here](https://pandas-profiling.ydata.ai/docs/master/pages/getting_started/examples.html)\n",
    "\n",
    "> - NASA Meteorites (comprehensive set of meteorite landing - object properties and locations)  \n",
    "> - UCI Bank Dataset (marketing dataset from a bank)\n",
    "> - Orange prices and Coal prices (simple pricing evolution datasets, showcasing the theming options)\n",
    "\n",
    "The project documentation is [here](https://pandas-profiling.ydata.ai/docs/master/index.html)\n",
    "\n",
    "\n",
    "\n",
    "In my environment I have installed it adding the package *pandas-profiling*  \n",
    "I have to say that it was not simple to make it work, because of a lot of error in packages references, but after a afternoon of stop and go finally I found a solution that worked form me [here](https://stackoverflow.com/questions/49314314/unable-to-import-pandas-profiling)     \n"
   ]
  },
  {
   "cell_type": "code",
   "execution_count": 17,
   "id": "42928753-11bc-4372-b78d-c78f42226f4a",
   "metadata": {},
   "outputs": [],
   "source": [
    "#these are the magic lines that makes me everything works fine# \n",
    "# conda install -c conda-forge pandas-profiling  \n",
    "# conda install -c conda-forge/label/cf201901 pandas-profiling  \n",
    "# conda install -c conda-forge/label/cf202003 pandas-profiling  \n",
    "\n",
    "\n",
    "\n"
   ]
  },
  {
   "cell_type": "markdown",
   "id": "66c7dab4-df72-4f87-964d-5b91b94b51f1",
   "metadata": {},
   "source": [
    "## Quick pre Analysis of  data-science-job-salaries\n",
    "\n",
    "Lets take the sample dataframe from Kaggle  \n",
    "I have downloaded one that was interesting to me  \n",
    "https://www.kaggle.com/datasets/ruchi798/data-science-job-salaries"
   ]
  },
  {
   "cell_type": "code",
   "execution_count": 11,
   "id": "c106eda9-f176-42ea-9467-97726480c2d6",
   "metadata": {},
   "outputs": [],
   "source": [
    "\n",
    "import pandas as pd\n",
    "import numpy as np\n",
    "from pandas_profiling import ProfileReport"
   ]
  },
  {
   "cell_type": "code",
   "execution_count": 12,
   "id": "a32e10d3-b147-47a7-b452-b02ec836e891",
   "metadata": {},
   "outputs": [
    {
     "data": {
      "text/html": [
       "<div>\n",
       "<style scoped>\n",
       "    .dataframe tbody tr th:only-of-type {\n",
       "        vertical-align: middle;\n",
       "    }\n",
       "\n",
       "    .dataframe tbody tr th {\n",
       "        vertical-align: top;\n",
       "    }\n",
       "\n",
       "    .dataframe thead th {\n",
       "        text-align: right;\n",
       "    }\n",
       "</style>\n",
       "<table border=\"1\" class=\"dataframe\">\n",
       "  <thead>\n",
       "    <tr style=\"text-align: right;\">\n",
       "      <th></th>\n",
       "      <th>Unnamed: 0</th>\n",
       "      <th>work_year</th>\n",
       "      <th>experience_level</th>\n",
       "      <th>employment_type</th>\n",
       "      <th>job_title</th>\n",
       "      <th>salary</th>\n",
       "      <th>salary_currency</th>\n",
       "      <th>salary_in_usd</th>\n",
       "      <th>employee_residence</th>\n",
       "      <th>remote_ratio</th>\n",
       "      <th>company_location</th>\n",
       "      <th>company_size</th>\n",
       "    </tr>\n",
       "  </thead>\n",
       "  <tbody>\n",
       "    <tr>\n",
       "      <th>0</th>\n",
       "      <td>0</td>\n",
       "      <td>2020</td>\n",
       "      <td>MI</td>\n",
       "      <td>FT</td>\n",
       "      <td>Data Scientist</td>\n",
       "      <td>70000</td>\n",
       "      <td>EUR</td>\n",
       "      <td>79833</td>\n",
       "      <td>DE</td>\n",
       "      <td>0</td>\n",
       "      <td>DE</td>\n",
       "      <td>L</td>\n",
       "    </tr>\n",
       "    <tr>\n",
       "      <th>1</th>\n",
       "      <td>1</td>\n",
       "      <td>2020</td>\n",
       "      <td>SE</td>\n",
       "      <td>FT</td>\n",
       "      <td>Machine Learning Scientist</td>\n",
       "      <td>260000</td>\n",
       "      <td>USD</td>\n",
       "      <td>260000</td>\n",
       "      <td>JP</td>\n",
       "      <td>0</td>\n",
       "      <td>JP</td>\n",
       "      <td>S</td>\n",
       "    </tr>\n",
       "    <tr>\n",
       "      <th>2</th>\n",
       "      <td>2</td>\n",
       "      <td>2020</td>\n",
       "      <td>SE</td>\n",
       "      <td>FT</td>\n",
       "      <td>Big Data Engineer</td>\n",
       "      <td>85000</td>\n",
       "      <td>GBP</td>\n",
       "      <td>109024</td>\n",
       "      <td>GB</td>\n",
       "      <td>50</td>\n",
       "      <td>GB</td>\n",
       "      <td>M</td>\n",
       "    </tr>\n",
       "    <tr>\n",
       "      <th>3</th>\n",
       "      <td>3</td>\n",
       "      <td>2020</td>\n",
       "      <td>MI</td>\n",
       "      <td>FT</td>\n",
       "      <td>Product Data Analyst</td>\n",
       "      <td>20000</td>\n",
       "      <td>USD</td>\n",
       "      <td>20000</td>\n",
       "      <td>HN</td>\n",
       "      <td>0</td>\n",
       "      <td>HN</td>\n",
       "      <td>S</td>\n",
       "    </tr>\n",
       "    <tr>\n",
       "      <th>4</th>\n",
       "      <td>4</td>\n",
       "      <td>2020</td>\n",
       "      <td>SE</td>\n",
       "      <td>FT</td>\n",
       "      <td>Machine Learning Engineer</td>\n",
       "      <td>150000</td>\n",
       "      <td>USD</td>\n",
       "      <td>150000</td>\n",
       "      <td>US</td>\n",
       "      <td>50</td>\n",
       "      <td>US</td>\n",
       "      <td>L</td>\n",
       "    </tr>\n",
       "  </tbody>\n",
       "</table>\n",
       "</div>"
      ],
      "text/plain": [
       "   Unnamed: 0  work_year experience_level employment_type  \\\n",
       "0           0       2020               MI              FT   \n",
       "1           1       2020               SE              FT   \n",
       "2           2       2020               SE              FT   \n",
       "3           3       2020               MI              FT   \n",
       "4           4       2020               SE              FT   \n",
       "\n",
       "                    job_title  salary salary_currency  salary_in_usd  \\\n",
       "0              Data Scientist   70000             EUR          79833   \n",
       "1  Machine Learning Scientist  260000             USD         260000   \n",
       "2           Big Data Engineer   85000             GBP         109024   \n",
       "3        Product Data Analyst   20000             USD          20000   \n",
       "4   Machine Learning Engineer  150000             USD         150000   \n",
       "\n",
       "  employee_residence  remote_ratio company_location company_size  \n",
       "0                 DE             0               DE            L  \n",
       "1                 JP             0               JP            S  \n",
       "2                 GB            50               GB            M  \n",
       "3                 HN             0               HN            S  \n",
       "4                 US            50               US            L  "
      ]
     },
     "execution_count": 12,
     "metadata": {},
     "output_type": "execute_result"
    }
   ],
   "source": [
    "pd.set_option('display.max_columns', 20)\n",
    "df = pd.read_csv('ds_salaries.csv')\n",
    "df.head(5)"
   ]
  },
  {
   "cell_type": "markdown",
   "id": "770de13f-60a8-44aa-8fd9-64b4dc73eb33",
   "metadata": {},
   "source": [
    "To generate a report I have just to run this function"
   ]
  },
  {
   "cell_type": "code",
   "execution_count": 13,
   "id": "98e6b654-da5c-4808-b54f-907ed217fcb7",
   "metadata": {},
   "outputs": [],
   "source": [
    "profile = ProfileReport(df) #this generates a HTML report , and can take some times depending on the size "
   ]
  },
  {
   "cell_type": "markdown",
   "id": "e69f6f06-5d1f-432e-80af-21882ff02b4f",
   "metadata": {},
   "source": [
    "-*Unfortunately in Github the output cell is not correcly displayed, code must be runned in python to see it, here I show screenshots*-   \n",
    "Anyway, ProfileReport generare an html page with several sections  \n",
    "and from this a can see that \n",
    "- there are 607 rows, and 12 columns, 9 of thsi can be categories and 3 are numbers (one is for sure the  salaries) \n",
    "- in the second section (Variable) I see that \n",
    "   - the information are most on USA\n",
    "   - company are at most medium size\n",
    "   - Employee are full time\n",
    "   - Senior level are the 50 %\n",
    "   - etc etc\n",
    "   - the mean salary is 120k$ (with min,max IQR etc)"
   ]
  },
  {
   "cell_type": "code",
   "execution_count": 14,
   "id": "65ea6112-a7ca-4406-bcd9-088dcdf42765",
   "metadata": {},
   "outputs": [],
   "source": [
    "profile # to dispaly is simple, just type the object and run"
   ]
  },
  {
   "cell_type": "code",
   "execution_count": 14,
   "id": "3013a56f-b38b-4e0a-a302-5906e7c59668",
   "metadata": {},
   "outputs": [
    {
     "data": {
      "application/vnd.jupyter.widget-view+json": {
       "model_id": "f7ec81f4a6d74331a825cf7a1aa4e55c",
       "version_major": 2,
       "version_minor": 0
      },
      "text/plain": [
       "Tab(children=(HTML(value='<div id=\"overview-content\" class=\"row variable spacing\">\\n    <div class=\"row\">\\n   …"
      ]
     },
     "metadata": {},
     "output_type": "display_data"
    },
    {
     "data": {
      "text/html": [
       "Report generated with <a href=\"https://github.com/pandas-profiling/pandas-profiling\">pandas-profiling</a>."
      ],
      "text/plain": [
       "<IPython.core.display.HTML object>"
      ]
     },
     "metadata": {},
     "output_type": "display_data"
    },
    {
     "data": {
      "text/plain": []
     },
     "execution_count": 14,
     "metadata": {},
     "output_type": "execute_result"
    }
   ],
   "source": []
  },
  {
   "cell_type": "markdown",
   "id": "4a8c31c0-5f0d-4818-b015-fdf820997e24",
   "metadata": {},
   "source": [
    "![](pic1.png)\n",
    "![](pic2.png)\n",
    "![](pic3.png)\n",
    "![](pic4.png)\n",
    "![](pic5.png)\n",
    "![](pic6.png)\n",
    "![](pic7.png)\n",
    "![](pic8.png)\n",
    "![](pic9.png)"
   ]
  },
  {
   "cell_type": "code",
   "execution_count": null,
   "id": "2f19fde1-f5f6-4820-90f0-3209a9222421",
   "metadata": {},
   "outputs": [],
   "source": []
  }
 ],
 "metadata": {
  "kernelspec": {
   "display_name": "Python 3 (ipykernel)",
   "language": "python",
   "name": "python3"
  },
  "language_info": {
   "codemirror_mode": {
    "name": "ipython",
    "version": 3
   },
   "file_extension": ".py",
   "mimetype": "text/x-python",
   "name": "python",
   "nbconvert_exporter": "python",
   "pygments_lexer": "ipython3",
   "version": "3.9.12"
  }
 },
 "nbformat": 4,
 "nbformat_minor": 5
}
