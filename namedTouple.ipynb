{
 "cells": [
  {
   "cell_type": "markdown",
   "source": [
    "Hi guys,\n",
    "again from test in HackerRanks [here](https://www.hackerrank.com/challenges/py-collections-namedtuple/problem?isFullScreen=true)\n",
    "\n",
    "I found this structure __collections.namedtuple()__ very nice\n",
    "This structure made me understand __why in phyton there are tuples__.\n",
    "\n",
    "__namedtuple__ turn tuples into convenient containers for simple tasks, they are easy to create, lightweight object types.\n",
    "\n",
    "\n",
    "Say that I have a little stream of information (i.e bike trips, or student ranks , or house rental, or whatever ...)\n",
    "and I want to store these elements and do simple analysis. Is it possible to define this __namedtuple__  in this way\n"
   ],
   "metadata": {
    "collapsed": false,
    "pycharm": {
     "name": "#%% md\n"
    }
   }
  },
  {
   "cell_type": "markdown",
   "source": [],
   "metadata": {
    "collapsed": false,
    "pycharm": {
     "name": "#%% md\n"
    }
   }
  },
  {
   "cell_type": "code",
   "execution_count": 20,
   "outputs": [
    {
     "name": "stdout",
     "output_type": "stream",
     "text": [
      "Student(ID=5, MARKS=92, NAME='Scott', CLASS=5)\n",
      "Flat(City='Padova', Price=700, Rooms=4, Mq=55, Floor=1)\n"
     ]
    }
   ],
   "source": [
    "from collections import namedtuple\n",
    "\n",
    "Bike = namedtuple('Bike', 'City StartStation EndStation StartTime EndTime duration')\n",
    "Student = namedtuple('Student', 'ID MARKS NAME CLASS')\n",
    "House = namedtuple('Flat', 'City Price Rooms Mq Floor ')\n",
    "\n",
    "house = House(City='Padova',Price=700, Rooms=4, Mq=55, Floor=1 )\n",
    "student = Student(ID=5, MARKS=92, NAME='Scott', CLASS=5)\n",
    "print(student)\n",
    "print(house)\n"
   ],
   "metadata": {
    "collapsed": false,
    "pycharm": {
     "name": "#%%\n"
    }
   }
  },
  {
   "cell_type": "markdown",
   "source": [
    "So if I have an input stream of some houses like this\n",
    "\n",
    "    City Price Rooms Mq Floor\n",
    "    Padova 700 4 55 3\n",
    "    Padova 650 4 50 2\n",
    "    Padova 1000 5 70 1\n",
    "\n",
    "I can define the structure of the namedtuple from the first line of input\n",
    "\n",
    "    Flat = namedtuple('Flat', input())     # this defines tuple's attrbutes from the first input line 'City Price Rooms Mq Floor'\n",
    "\n",
    "then take the values from the stream splitting the next lines\n",
    "\n",
    "    input().split()\n",
    "\n",
    "and assign these values as argument to the namedtuple, _to do this I found that I have to use the *_\n",
    "\n",
    "    *input().split()\n",
    "\n",
    "So to create the flat I can do this\n",
    "\n",
    "    Flat(*input().split())\n",
    "\n",
    "Then if I want to take all the flats I can just create them for each lines\n",
    "\n",
    "    Flat(*input().split()) for _ in range(3)        # I found that the _ is someting like 'just loop for me pls'\n",
    "\n",
    "and insert them in a list\n",
    "\n",
    "    flats = [Flat(*input().split()) for _ in range(3)]\n",
    "\n",
    "well... so if finally I want the average price for the flats\n",
    "\n",
    "    sum( int(flat.prize) for flat in flats] )/3\n",
    "\n",
    "Carinooo!\n",
    "\n",
    "Here is all together\n",
    "\n"
   ],
   "metadata": {
    "collapsed": false,
    "pycharm": {
     "name": "#%% md\n"
    }
   }
  },
  {
   "cell_type": "code",
   "execution_count": 21,
   "outputs": [
    {
     "name": "stdout",
     "output_type": "stream",
     "text": [
      "In Padova a little apartment costs in average 783.33 €!\n",
      "Yes they are very little, only 58 mq on average.😀\n"
     ]
    }
   ],
   "source": [
    "\n",
    "from collections import namedtuple\n",
    "\n",
    "if __name__ == \"__main__\":\n",
    "\n",
    "    num_flats = int(input())\n",
    "    Flat = namedtuple('Flat', input()) #'City Price Rooms Mq Floor'\n",
    "    flats = [Flat(*input().split()) for _ in range(num_flats)]\n",
    "    print(\"In {} a little apartment costs in average {:.2f} €!\".format(flats[0].City ,sum([ int(flat.Price) for flat in flats])/num_flats))\n",
    "    print(\"Yes they are very little, only {:.0f} mq on average.\\U0001f600\".format(sum([ int(flat.Mq) for flat in flats])/num_flats))\n"
   ],
   "metadata": {
    "collapsed": false,
    "pycharm": {
     "name": "#%%\n"
    }
   }
  },
  {
   "cell_type": "code",
   "execution_count": null,
   "outputs": [],
   "source": [],
   "metadata": {
    "collapsed": false,
    "pycharm": {
     "name": "#%%\n"
    }
   }
  },
  {
   "cell_type": "markdown",
   "source": [
    "Understanding the correct usage of *input() was not simple ! And I have to go into more examples."
   ],
   "metadata": {
    "collapsed": false,
    "pycharm": {
     "name": "#%% md\n"
    }
   }
  },
  {
   "cell_type": "code",
   "execution_count": null,
   "outputs": [],
   "source": [],
   "metadata": {
    "collapsed": false,
    "pycharm": {
     "name": "#%%\n"
    }
   }
  }
 ],
 "metadata": {
  "kernelspec": {
   "display_name": "Python 3",
   "language": "python",
   "name": "python3"
  },
  "language_info": {
   "codemirror_mode": {
    "name": "ipython",
    "version": 2
   },
   "file_extension": ".py",
   "mimetype": "text/x-python",
   "name": "python",
   "nbconvert_exporter": "python",
   "pygments_lexer": "ipython2",
   "version": "2.7.6"
  }
 },
 "nbformat": 4,
 "nbformat_minor": 0
}